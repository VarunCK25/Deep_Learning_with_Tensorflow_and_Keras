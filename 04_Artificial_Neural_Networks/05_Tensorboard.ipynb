{
 "cells": [
  {
   "cell_type": "markdown",
   "metadata": {},
   "source": [
    "# Tensorboard\n",
    "\n",
    "---\n",
    "---\n",
    "\n",
    "Let's explore the built in data visualization capabilities that come with Tensorboard.\n",
    "\n",
    "Full official tutorial available here: https://www.tensorflow.org/tensorboard/get_started"
   ]
  },
  {
   "cell_type": "markdown",
   "metadata": {},
   "source": [
    "### Imports"
   ]
  },
  {
   "cell_type": "code",
   "execution_count": 1,
   "metadata": {},
   "outputs": [],
   "source": [
    "import numpy as np\n",
    "import pandas as pd"
   ]
  },
  {
   "cell_type": "markdown",
   "metadata": {},
   "source": [
    "### Data"
   ]
  },
  {
   "cell_type": "code",
   "execution_count": 2,
   "metadata": {},
   "outputs": [],
   "source": [
    "df = pd.read_csv('../DATA/cancer_classification.csv')"
   ]
  },
  {
   "cell_type": "markdown",
   "metadata": {},
   "source": [
    "### Train Test Split"
   ]
  },
  {
   "cell_type": "code",
   "execution_count": 3,
   "metadata": {},
   "outputs": [],
   "source": [
    "X = df.drop('benign_0__mal_1', axis=1).values\n",
    "y = df['benign_0__mal_1'].values"
   ]
  },
  {
   "cell_type": "code",
   "execution_count": 4,
   "metadata": {},
   "outputs": [],
   "source": [
    "from sklearn.model_selection import train_test_split"
   ]
  },
  {
   "cell_type": "code",
   "execution_count": 5,
   "metadata": {},
   "outputs": [],
   "source": [
    "X_train, X_test, y_train, y_test = train_test_split(X, y, test_size=0.25, random_state=101)"
   ]
  },
  {
   "cell_type": "markdown",
   "metadata": {},
   "source": [
    "### Scaling Data"
   ]
  },
  {
   "cell_type": "code",
   "execution_count": 6,
   "metadata": {},
   "outputs": [],
   "source": [
    "from sklearn.preprocessing import MinMaxScaler"
   ]
  },
  {
   "cell_type": "code",
   "execution_count": 7,
   "metadata": {},
   "outputs": [],
   "source": [
    "scaler = MinMaxScaler()"
   ]
  },
  {
   "cell_type": "code",
   "execution_count": 8,
   "metadata": {},
   "outputs": [
    {
     "data": {
      "text/plain": [
       "MinMaxScaler(copy=True, feature_range=(0, 1))"
      ]
     },
     "execution_count": 8,
     "metadata": {},
     "output_type": "execute_result"
    }
   ],
   "source": [
    "scaler.fit(X_train)"
   ]
  },
  {
   "cell_type": "code",
   "execution_count": 9,
   "metadata": {},
   "outputs": [],
   "source": [
    "X_train = scaler.transform(X_train)\n",
    "X_test = scaler.transform(X_test)"
   ]
  },
  {
   "cell_type": "markdown",
   "metadata": {},
   "source": [
    "## Creating the Model"
   ]
  },
  {
   "cell_type": "code",
   "execution_count": 11,
   "metadata": {},
   "outputs": [],
   "source": [
    "import tensorflow as tf\n",
    "from tensorflow.keras.models import Sequential\n",
    "from tensorflow.keras.layers import Dense, Dropout, Activation\n",
    "from tensorflow.keras.callbacks import EarlyStopping, TensorBoard"
   ]
  },
  {
   "cell_type": "code",
   "execution_count": 12,
   "metadata": {},
   "outputs": [],
   "source": [
    "early_stop = EarlyStopping(monitor='val_loss', mode='min', verbose=1, patience=25)"
   ]
  },
  {
   "cell_type": "code",
   "execution_count": 13,
   "metadata": {},
   "outputs": [
    {
     "data": {
      "text/plain": [
       "'/home/varun/notebooks/TensorFlow/Varun/04_Artificial_Neural_Networks'"
      ]
     },
     "execution_count": 13,
     "metadata": {},
     "output_type": "execute_result"
    }
   ],
   "source": [
    "pwd"
   ]
  },
  {
   "cell_type": "markdown",
   "metadata": {},
   "source": [
    "## Creating the Tensorboard Callback\n",
    "\n",
    "TensorBoard is a visualization tool provided with TensorFlow.\n",
    "\n",
    "This callback logs events for TensorBoard, including:\n",
    "* Metrics summary plots\n",
    "* Training graph visualization\n",
    "* Activation histograms\n",
    "* Sampled profiling\n",
    "\n",
    "If you have installed TensorFlow with pip, you should be able\n",
    "to launch TensorBoard from the command line:\n",
    "\n",
    "```sh\n",
    "tensorboard --logdir=path_to_your_logs\n",
    "```\n",
    "\n",
    "You can find more information about TensorBoard\n",
    "[here](https://www.tensorflow.org/tensorboard/).\n",
    "\n",
    "    Arguments:\n",
    "        log_dir: the path of the directory where to save the log files to be\n",
    "          parsed by TensorBoard.\n",
    "        histogram_freq: frequency (in epochs) at which to compute activation and\n",
    "          weight histograms for the layers of the model. If set to 0, histograms\n",
    "          won't be computed. Validation data (or split) must be specified for\n",
    "          histogram visualizations.\n",
    "        write_graph: whether to visualize the graph in TensorBoard. The log file\n",
    "          can become quite large when write_graph is set to True.\n",
    "        write_images: whether to write model weights to visualize as image in\n",
    "          TensorBoard.\n",
    "        update_freq: `'batch'` or `'epoch'` or integer. When using `'batch'`,\n",
    "          writes the losses and metrics to TensorBoard after each batch. The same\n",
    "          applies for `'epoch'`. If using an integer, let's say `1000`, the\n",
    "          callback will write the metrics and losses to TensorBoard every 1000\n",
    "          samples. Note that writing too frequently to TensorBoard can slow down\n",
    "          your training.\n",
    "        profile_batch: Profile the batch to sample compute characteristics. By\n",
    "          default, it will profile the second batch. Set profile_batch=0 to\n",
    "          disable profiling. Must run in TensorFlow eager mode.\n",
    "        embeddings_freq: frequency (in epochs) at which embedding layers will\n",
    "          be visualized. If set to 0, embeddings won't be visualized.\n",
    "       "
   ]
  },
  {
   "cell_type": "code",
   "execution_count": 14,
   "metadata": {},
   "outputs": [],
   "source": [
    "# WINDOWS: Use \"logs\\\\fit\"\n",
    "# MACOS/LINUX: Use \"logs\\fit\"\n",
    "\n",
    "log_directory = 'logs/fit'\n",
    "\n",
    "# OPTIONAL: ADD A TIMESTAMP FOR UNIQUE FOLDER\n",
    "# timestamp = datetime.now().strftime(\"%Y-%m-%d--%H%M\")\n",
    "# log_directory = log_directory + '\\\\' + timestamp\n",
    "\n",
    "\n",
    "board = TensorBoard(log_dir=log_directory,histogram_freq=1,\n",
    "    write_graph=True,\n",
    "    write_images=True,\n",
    "    update_freq='epoch',\n",
    "    profile_batch=2,\n",
    "    embeddings_freq=1)"
   ]
  },
  {
   "cell_type": "markdown",
   "metadata": {},
   "source": [
    "Now create the model layers:"
   ]
  },
  {
   "cell_type": "code",
   "execution_count": 15,
   "metadata": {},
   "outputs": [],
   "source": [
    "model = Sequential()\n",
    "model.add(Dense(units=30, activation='relu'))\n",
    "model.add(Dropout(0.5))\n",
    "model.add(Dense(units=15, activation='relu'))\n",
    "model.add(Dropout(0.5))\n",
    "model.add(Dense(units=1, activation='sigmoid'))\n",
    "model.compile(loss='binary_crossentropy', optimizer='adam')"
   ]
  },
  {
   "cell_type": "markdown",
   "metadata": {},
   "source": [
    "## Train the Model"
   ]
  },
  {
   "cell_type": "code",
   "execution_count": 16,
   "metadata": {},
   "outputs": [
    {
     "name": "stdout",
     "output_type": "stream",
     "text": [
      "Train on 426 samples, validate on 143 samples\n",
      "Epoch 1/600\n",
      "426/426 [==============================] - 0s 871us/sample - loss: 0.7032 - val_loss: 0.6832\n",
      "Epoch 2/600\n",
      "426/426 [==============================] - 0s 64us/sample - loss: 0.7001 - val_loss: 0.6631\n",
      "Epoch 3/600\n",
      "426/426 [==============================] - 0s 60us/sample - loss: 0.6620 - val_loss: 0.6362\n",
      "Epoch 4/600\n",
      "426/426 [==============================] - 0s 61us/sample - loss: 0.6295 - val_loss: 0.6005\n",
      "Epoch 5/600\n",
      "426/426 [==============================] - 0s 59us/sample - loss: 0.6095 - val_loss: 0.5710\n",
      "Epoch 6/600\n",
      "426/426 [==============================] - 0s 60us/sample - loss: 0.6032 - val_loss: 0.5449\n",
      "Epoch 7/600\n",
      "426/426 [==============================] - 0s 59us/sample - loss: 0.5592 - val_loss: 0.5139\n",
      "Epoch 8/600\n",
      "426/426 [==============================] - 0s 59us/sample - loss: 0.5316 - val_loss: 0.4810\n",
      "Epoch 9/600\n",
      "426/426 [==============================] - 0s 60us/sample - loss: 0.5266 - val_loss: 0.4565\n",
      "Epoch 10/600\n",
      "426/426 [==============================] - 0s 62us/sample - loss: 0.4917 - val_loss: 0.4287\n",
      "Epoch 11/600\n",
      "426/426 [==============================] - 0s 62us/sample - loss: 0.4766 - val_loss: 0.3972\n",
      "Epoch 12/600\n",
      "426/426 [==============================] - 0s 59us/sample - loss: 0.4566 - val_loss: 0.3712\n",
      "Epoch 13/600\n",
      "426/426 [==============================] - 0s 60us/sample - loss: 0.4755 - val_loss: 0.3554\n",
      "Epoch 14/600\n",
      "426/426 [==============================] - 0s 60us/sample - loss: 0.4319 - val_loss: 0.3378\n",
      "Epoch 15/600\n",
      "426/426 [==============================] - 0s 60us/sample - loss: 0.3968 - val_loss: 0.3152\n",
      "Epoch 16/600\n",
      "426/426 [==============================] - 0s 59us/sample - loss: 0.3857 - val_loss: 0.2947\n",
      "Epoch 17/600\n",
      "426/426 [==============================] - 0s 60us/sample - loss: 0.3552 - val_loss: 0.2745\n",
      "Epoch 18/600\n",
      "426/426 [==============================] - 0s 60us/sample - loss: 0.3703 - val_loss: 0.2604\n",
      "Epoch 19/600\n",
      "426/426 [==============================] - 0s 60us/sample - loss: 0.3596 - val_loss: 0.2529\n",
      "Epoch 20/600\n",
      "426/426 [==============================] - 0s 59us/sample - loss: 0.3286 - val_loss: 0.2427\n",
      "Epoch 21/600\n",
      "426/426 [==============================] - 0s 63us/sample - loss: 0.3230 - val_loss: 0.2393\n",
      "Epoch 22/600\n",
      "426/426 [==============================] - 0s 60us/sample - loss: 0.3110 - val_loss: 0.2186\n",
      "Epoch 23/600\n",
      "426/426 [==============================] - 0s 60us/sample - loss: 0.3021 - val_loss: 0.2090\n",
      "Epoch 24/600\n",
      "426/426 [==============================] - 0s 59us/sample - loss: 0.2730 - val_loss: 0.2001\n",
      "Epoch 25/600\n",
      "426/426 [==============================] - 0s 60us/sample - loss: 0.2669 - val_loss: 0.1960\n",
      "Epoch 26/600\n",
      "426/426 [==============================] - 0s 60us/sample - loss: 0.3147 - val_loss: 0.1836\n",
      "Epoch 27/600\n",
      "426/426 [==============================] - 0s 59us/sample - loss: 0.2914 - val_loss: 0.1831\n",
      "Epoch 28/600\n",
      "426/426 [==============================] - 0s 62us/sample - loss: 0.2502 - val_loss: 0.1835\n",
      "Epoch 29/600\n",
      "426/426 [==============================] - 0s 60us/sample - loss: 0.2491 - val_loss: 0.1758\n",
      "Epoch 30/600\n",
      "426/426 [==============================] - 0s 60us/sample - loss: 0.2476 - val_loss: 0.1643\n",
      "Epoch 31/600\n",
      "426/426 [==============================] - 0s 60us/sample - loss: 0.2489 - val_loss: 0.1610\n",
      "Epoch 32/600\n",
      "426/426 [==============================] - 0s 60us/sample - loss: 0.2427 - val_loss: 0.1667\n",
      "Epoch 33/600\n",
      "426/426 [==============================] - 0s 60us/sample - loss: 0.2106 - val_loss: 0.1510\n",
      "Epoch 34/600\n",
      "426/426 [==============================] - 0s 59us/sample - loss: 0.2421 - val_loss: 0.1512\n",
      "Epoch 35/600\n",
      "426/426 [==============================] - 0s 60us/sample - loss: 0.2207 - val_loss: 0.1444\n",
      "Epoch 36/600\n",
      "426/426 [==============================] - 0s 60us/sample - loss: 0.2320 - val_loss: 0.1459\n",
      "Epoch 37/600\n",
      "426/426 [==============================] - 0s 60us/sample - loss: 0.2055 - val_loss: 0.1437\n",
      "Epoch 38/600\n",
      "426/426 [==============================] - 0s 61us/sample - loss: 0.2043 - val_loss: 0.1396\n",
      "Epoch 39/600\n",
      "426/426 [==============================] - 0s 58us/sample - loss: 0.1698 - val_loss: 0.1331\n",
      "Epoch 40/600\n",
      "426/426 [==============================] - 0s 59us/sample - loss: 0.2182 - val_loss: 0.1355\n",
      "Epoch 41/600\n",
      "426/426 [==============================] - 0s 59us/sample - loss: 0.1913 - val_loss: 0.1339\n",
      "Epoch 42/600\n",
      "426/426 [==============================] - 0s 59us/sample - loss: 0.1766 - val_loss: 0.1360\n",
      "Epoch 43/600\n",
      "426/426 [==============================] - 0s 60us/sample - loss: 0.1795 - val_loss: 0.1268\n",
      "Epoch 44/600\n",
      "426/426 [==============================] - 0s 60us/sample - loss: 0.1695 - val_loss: 0.1228\n",
      "Epoch 45/600\n",
      "426/426 [==============================] - 0s 60us/sample - loss: 0.1800 - val_loss: 0.1272\n",
      "Epoch 46/600\n",
      "426/426 [==============================] - 0s 59us/sample - loss: 0.1982 - val_loss: 0.1287\n",
      "Epoch 47/600\n",
      "426/426 [==============================] - 0s 60us/sample - loss: 0.1840 - val_loss: 0.1323\n",
      "Epoch 48/600\n",
      "426/426 [==============================] - 0s 59us/sample - loss: 0.1623 - val_loss: 0.1189\n",
      "Epoch 49/600\n",
      "426/426 [==============================] - 0s 59us/sample - loss: 0.1615 - val_loss: 0.1212\n",
      "Epoch 50/600\n",
      "426/426 [==============================] - 0s 59us/sample - loss: 0.1577 - val_loss: 0.1149\n",
      "Epoch 51/600\n",
      "426/426 [==============================] - 0s 61us/sample - loss: 0.1654 - val_loss: 0.1236\n",
      "Epoch 52/600\n",
      "426/426 [==============================] - 0s 63us/sample - loss: 0.1642 - val_loss: 0.1174\n",
      "Epoch 53/600\n",
      "426/426 [==============================] - 0s 59us/sample - loss: 0.1469 - val_loss: 0.1151\n",
      "Epoch 54/600\n",
      "426/426 [==============================] - 0s 59us/sample - loss: 0.1455 - val_loss: 0.1135\n",
      "Epoch 55/600\n",
      "426/426 [==============================] - 0s 60us/sample - loss: 0.1649 - val_loss: 0.1128\n",
      "Epoch 56/600\n",
      "426/426 [==============================] - 0s 61us/sample - loss: 0.1413 - val_loss: 0.1200\n",
      "Epoch 57/600\n",
      "426/426 [==============================] - 0s 59us/sample - loss: 0.1690 - val_loss: 0.1108\n",
      "Epoch 58/600\n",
      "426/426 [==============================] - 0s 60us/sample - loss: 0.1418 - val_loss: 0.1340\n",
      "Epoch 59/600\n",
      "426/426 [==============================] - 0s 60us/sample - loss: 0.1467 - val_loss: 0.1133\n",
      "Epoch 60/600\n",
      "426/426 [==============================] - 0s 60us/sample - loss: 0.1427 - val_loss: 0.1178\n",
      "Epoch 61/600\n",
      "426/426 [==============================] - 0s 60us/sample - loss: 0.1335 - val_loss: 0.1091\n",
      "Epoch 62/600\n",
      "426/426 [==============================] - 0s 59us/sample - loss: 0.1287 - val_loss: 0.1099\n",
      "Epoch 63/600\n",
      "426/426 [==============================] - 0s 60us/sample - loss: 0.1215 - val_loss: 0.1152\n",
      "Epoch 64/600\n",
      "426/426 [==============================] - 0s 60us/sample - loss: 0.1247 - val_loss: 0.1116\n",
      "Epoch 65/600\n",
      "426/426 [==============================] - 0s 59us/sample - loss: 0.1440 - val_loss: 0.1097\n",
      "Epoch 66/600\n",
      "426/426 [==============================] - 0s 62us/sample - loss: 0.1202 - val_loss: 0.1047\n",
      "Epoch 67/600\n",
      "426/426 [==============================] - 0s 59us/sample - loss: 0.1338 - val_loss: 0.1117\n",
      "Epoch 68/600\n",
      "426/426 [==============================] - 0s 60us/sample - loss: 0.1269 - val_loss: 0.1083\n",
      "Epoch 69/600\n",
      "426/426 [==============================] - 0s 59us/sample - loss: 0.1370 - val_loss: 0.1071\n",
      "Epoch 70/600\n",
      "426/426 [==============================] - 0s 60us/sample - loss: 0.1313 - val_loss: 0.1104\n",
      "Epoch 71/600\n",
      "426/426 [==============================] - 0s 59us/sample - loss: 0.1132 - val_loss: 0.1070\n",
      "Epoch 72/600\n",
      "426/426 [==============================] - 0s 60us/sample - loss: 0.1077 - val_loss: 0.1053\n",
      "Epoch 73/600\n",
      "426/426 [==============================] - 0s 60us/sample - loss: 0.1224 - val_loss: 0.1125\n",
      "Epoch 74/600\n",
      "426/426 [==============================] - 0s 59us/sample - loss: 0.1187 - val_loss: 0.1021\n",
      "Epoch 75/600\n",
      "426/426 [==============================] - 0s 60us/sample - loss: 0.1160 - val_loss: 0.1100\n",
      "Epoch 76/600\n",
      "426/426 [==============================] - 0s 60us/sample - loss: 0.1016 - val_loss: 0.1052\n",
      "Epoch 77/600\n",
      "426/426 [==============================] - 0s 59us/sample - loss: 0.1266 - val_loss: 0.1126\n",
      "Epoch 78/600\n"
     ]
    },
    {
     "name": "stdout",
     "output_type": "stream",
     "text": [
      "426/426 [==============================] - 0s 59us/sample - loss: 0.1271 - val_loss: 0.1035\n",
      "Epoch 79/600\n",
      "426/426 [==============================] - 0s 59us/sample - loss: 0.1147 - val_loss: 0.1064\n",
      "Epoch 80/600\n",
      "426/426 [==============================] - 0s 60us/sample - loss: 0.1116 - val_loss: 0.1148\n",
      "Epoch 81/600\n",
      "426/426 [==============================] - 0s 61us/sample - loss: 0.1042 - val_loss: 0.1006\n",
      "Epoch 82/600\n",
      "426/426 [==============================] - 0s 59us/sample - loss: 0.1164 - val_loss: 0.1077\n",
      "Epoch 83/600\n",
      "426/426 [==============================] - 0s 59us/sample - loss: 0.1170 - val_loss: 0.1045\n",
      "Epoch 84/600\n",
      "426/426 [==============================] - 0s 59us/sample - loss: 0.1040 - val_loss: 0.1032\n",
      "Epoch 85/600\n",
      "426/426 [==============================] - 0s 60us/sample - loss: 0.1105 - val_loss: 0.1236\n",
      "Epoch 86/600\n",
      "426/426 [==============================] - 0s 60us/sample - loss: 0.1269 - val_loss: 0.1028\n",
      "Epoch 87/600\n",
      "426/426 [==============================] - 0s 59us/sample - loss: 0.0986 - val_loss: 0.1012\n",
      "Epoch 88/600\n",
      "426/426 [==============================] - 0s 60us/sample - loss: 0.1078 - val_loss: 0.1040\n",
      "Epoch 89/600\n",
      "426/426 [==============================] - 0s 60us/sample - loss: 0.0974 - val_loss: 0.1079\n",
      "Epoch 90/600\n",
      "426/426 [==============================] - 0s 62us/sample - loss: 0.1113 - val_loss: 0.1016\n",
      "Epoch 91/600\n",
      "426/426 [==============================] - 0s 62us/sample - loss: 0.0972 - val_loss: 0.1087\n",
      "Epoch 92/600\n",
      "426/426 [==============================] - 0s 59us/sample - loss: 0.1257 - val_loss: 0.1103\n",
      "Epoch 93/600\n",
      "426/426 [==============================] - 0s 59us/sample - loss: 0.1044 - val_loss: 0.1035\n",
      "Epoch 94/600\n",
      "426/426 [==============================] - 0s 60us/sample - loss: 0.1050 - val_loss: 0.1112\n",
      "Epoch 95/600\n",
      "426/426 [==============================] - 0s 60us/sample - loss: 0.1132 - val_loss: 0.1062\n",
      "Epoch 96/600\n",
      "426/426 [==============================] - 0s 60us/sample - loss: 0.0892 - val_loss: 0.1336\n",
      "Epoch 97/600\n",
      "426/426 [==============================] - 0s 60us/sample - loss: 0.1155 - val_loss: 0.1161\n",
      "Epoch 98/600\n",
      "426/426 [==============================] - 0s 61us/sample - loss: 0.0983 - val_loss: 0.0998\n",
      "Epoch 99/600\n",
      "426/426 [==============================] - 0s 61us/sample - loss: 0.1100 - val_loss: 0.1005\n",
      "Epoch 100/600\n",
      "426/426 [==============================] - 0s 60us/sample - loss: 0.1137 - val_loss: 0.1181\n",
      "Epoch 101/600\n",
      "426/426 [==============================] - 0s 60us/sample - loss: 0.0878 - val_loss: 0.0979\n",
      "Epoch 102/600\n",
      "426/426 [==============================] - 0s 60us/sample - loss: 0.0965 - val_loss: 0.1125\n",
      "Epoch 103/600\n",
      "426/426 [==============================] - 0s 59us/sample - loss: 0.1075 - val_loss: 0.1018\n",
      "Epoch 104/600\n",
      "426/426 [==============================] - 0s 59us/sample - loss: 0.0953 - val_loss: 0.1007\n",
      "Epoch 105/600\n",
      "426/426 [==============================] - 0s 61us/sample - loss: 0.0865 - val_loss: 0.1168\n",
      "Epoch 106/600\n",
      "426/426 [==============================] - 0s 61us/sample - loss: 0.0960 - val_loss: 0.1150\n",
      "Epoch 107/600\n",
      "426/426 [==============================] - 0s 60us/sample - loss: 0.0830 - val_loss: 0.0989\n",
      "Epoch 108/600\n",
      "426/426 [==============================] - 0s 60us/sample - loss: 0.0955 - val_loss: 0.0977\n",
      "Epoch 109/600\n",
      "426/426 [==============================] - 0s 61us/sample - loss: 0.1133 - val_loss: 0.1025\n",
      "Epoch 110/600\n",
      "426/426 [==============================] - 0s 59us/sample - loss: 0.0716 - val_loss: 0.1130\n",
      "Epoch 111/600\n",
      "426/426 [==============================] - 0s 59us/sample - loss: 0.0985 - val_loss: 0.1155\n",
      "Epoch 112/600\n",
      "426/426 [==============================] - 0s 60us/sample - loss: 0.0925 - val_loss: 0.1000\n",
      "Epoch 113/600\n",
      "426/426 [==============================] - 0s 60us/sample - loss: 0.0915 - val_loss: 0.1008\n",
      "Epoch 114/600\n",
      "426/426 [==============================] - 0s 60us/sample - loss: 0.0762 - val_loss: 0.1022\n",
      "Epoch 115/600\n",
      "426/426 [==============================] - 0s 59us/sample - loss: 0.0959 - val_loss: 0.1023\n",
      "Epoch 116/600\n",
      "426/426 [==============================] - 0s 60us/sample - loss: 0.0827 - val_loss: 0.1020\n",
      "Epoch 117/600\n",
      "426/426 [==============================] - 0s 60us/sample - loss: 0.0853 - val_loss: 0.1017\n",
      "Epoch 118/600\n",
      "426/426 [==============================] - 0s 60us/sample - loss: 0.1091 - val_loss: 0.1046\n",
      "Epoch 119/600\n",
      "426/426 [==============================] - 0s 59us/sample - loss: 0.1023 - val_loss: 0.1012\n",
      "Epoch 120/600\n",
      "426/426 [==============================] - 0s 60us/sample - loss: 0.1070 - val_loss: 0.1056\n",
      "Epoch 121/600\n",
      "426/426 [==============================] - 0s 60us/sample - loss: 0.1016 - val_loss: 0.0978\n",
      "Epoch 122/600\n",
      "426/426 [==============================] - 0s 59us/sample - loss: 0.0906 - val_loss: 0.1006\n",
      "Epoch 123/600\n",
      "426/426 [==============================] - 0s 61us/sample - loss: 0.0842 - val_loss: 0.1064\n",
      "Epoch 124/600\n",
      "426/426 [==============================] - 0s 59us/sample - loss: 0.0812 - val_loss: 0.1009\n",
      "Epoch 125/600\n",
      "426/426 [==============================] - 0s 59us/sample - loss: 0.0807 - val_loss: 0.0964\n",
      "Epoch 126/600\n",
      "426/426 [==============================] - 0s 61us/sample - loss: 0.0870 - val_loss: 0.0964\n",
      "Epoch 127/600\n",
      "426/426 [==============================] - 0s 60us/sample - loss: 0.1017 - val_loss: 0.1092\n",
      "Epoch 128/600\n",
      "426/426 [==============================] - 0s 60us/sample - loss: 0.0979 - val_loss: 0.0960\n",
      "Epoch 129/600\n",
      "426/426 [==============================] - 0s 61us/sample - loss: 0.0714 - val_loss: 0.0979\n",
      "Epoch 130/600\n",
      "426/426 [==============================] - 0s 61us/sample - loss: 0.0824 - val_loss: 0.1009\n",
      "Epoch 131/600\n",
      "426/426 [==============================] - 0s 60us/sample - loss: 0.0701 - val_loss: 0.1031\n",
      "Epoch 132/600\n",
      "426/426 [==============================] - 0s 59us/sample - loss: 0.0880 - val_loss: 0.1112\n",
      "Epoch 133/600\n",
      "426/426 [==============================] - 0s 60us/sample - loss: 0.0809 - val_loss: 0.1023\n",
      "Epoch 134/600\n",
      "426/426 [==============================] - 0s 60us/sample - loss: 0.0783 - val_loss: 0.1062\n",
      "Epoch 135/600\n",
      "426/426 [==============================] - 0s 59us/sample - loss: 0.0977 - val_loss: 0.1077\n",
      "Epoch 136/600\n",
      "426/426 [==============================] - 0s 61us/sample - loss: 0.0757 - val_loss: 0.1005\n",
      "Epoch 137/600\n",
      "426/426 [==============================] - 0s 60us/sample - loss: 0.0564 - val_loss: 0.1013\n",
      "Epoch 138/600\n",
      "426/426 [==============================] - 0s 59us/sample - loss: 0.0808 - val_loss: 0.1065\n",
      "Epoch 139/600\n",
      "426/426 [==============================] - 0s 60us/sample - loss: 0.1041 - val_loss: 0.1255\n",
      "Epoch 140/600\n",
      "426/426 [==============================] - 0s 60us/sample - loss: 0.0846 - val_loss: 0.1025\n",
      "Epoch 141/600\n",
      "426/426 [==============================] - 0s 60us/sample - loss: 0.0689 - val_loss: 0.1140\n",
      "Epoch 142/600\n",
      "426/426 [==============================] - 0s 59us/sample - loss: 0.0946 - val_loss: 0.1073\n",
      "Epoch 143/600\n",
      "426/426 [==============================] - 0s 60us/sample - loss: 0.1011 - val_loss: 0.1064\n",
      "Epoch 144/600\n",
      "426/426 [==============================] - 0s 60us/sample - loss: 0.0947 - val_loss: 0.0998\n",
      "Epoch 145/600\n",
      "426/426 [==============================] - 0s 60us/sample - loss: 0.0723 - val_loss: 0.1046\n",
      "Epoch 146/600\n",
      "426/426 [==============================] - 0s 60us/sample - loss: 0.0665 - val_loss: 0.0984\n",
      "Epoch 147/600\n",
      "426/426 [==============================] - 0s 60us/sample - loss: 0.0795 - val_loss: 0.1190\n",
      "Epoch 148/600\n",
      "426/426 [==============================] - 0s 60us/sample - loss: 0.0991 - val_loss: 0.1189\n",
      "Epoch 149/600\n",
      "426/426 [==============================] - 0s 60us/sample - loss: 0.0946 - val_loss: 0.1049\n",
      "Epoch 150/600\n",
      "426/426 [==============================] - 0s 62us/sample - loss: 0.0952 - val_loss: 0.1155\n",
      "Epoch 151/600\n",
      "426/426 [==============================] - 0s 59us/sample - loss: 0.0758 - val_loss: 0.1132\n",
      "Epoch 152/600\n",
      "426/426 [==============================] - 0s 59us/sample - loss: 0.0756 - val_loss: 0.1088\n",
      "Epoch 153/600\n",
      "426/426 [==============================] - 0s 60us/sample - loss: 0.0912 - val_loss: 0.1076\n",
      "Epoch 00153: early stopping\n"
     ]
    },
    {
     "data": {
      "text/plain": [
       "<tensorflow.python.keras.callbacks.History at 0x7f946563acd0>"
      ]
     },
     "execution_count": 16,
     "metadata": {},
     "output_type": "execute_result"
    }
   ],
   "source": [
    "model.fit(x=X_train,\n",
    "          y=y_train,\n",
    "          epochs=600,\n",
    "          validation_data=(X_test,y_test),\n",
    "          verbose=1,\n",
    "          callbacks=[early_stop, board])"
   ]
  },
  {
   "cell_type": "markdown",
   "metadata": {},
   "source": [
    "___\n",
    "# Running Tensorboard\n"
   ]
  },
  {
   "cell_type": "markdown",
   "metadata": {},
   "source": [
    "## Running through the Command Line"
   ]
  },
  {
   "cell_type": "markdown",
   "metadata": {},
   "source": [
    "Tensorboard will run locally in your browser at [http://localhost:6006/](http://localhost:6006/)\n"
   ]
  },
  {
   "cell_type": "code",
   "execution_count": 17,
   "metadata": {},
   "outputs": [
    {
     "name": "stdout",
     "output_type": "stream",
     "text": [
      "logs/fit\n"
     ]
    }
   ],
   "source": [
    "print(log_directory)"
   ]
  },
  {
   "cell_type": "code",
   "execution_count": 18,
   "metadata": {},
   "outputs": [
    {
     "data": {
      "text/plain": [
       "'/home/varun/notebooks/TensorFlow/Varun/04_Artificial_Neural_Networks'"
      ]
     },
     "execution_count": 18,
     "metadata": {},
     "output_type": "execute_result"
    }
   ],
   "source": [
    "pwd"
   ]
  },
  {
   "cell_type": "markdown",
   "metadata": {},
   "source": [
    "### Use cd at your command line to change directory to the file path reported back by pwd or your current .py file location.\n",
    "### Then run this code at your command line or terminal"
   ]
  },
  {
   "cell_type": "code",
   "execution_count": null,
   "metadata": {},
   "outputs": [],
   "source": [
    "tensorboard --logdir logs/fit "
   ]
  }
 ],
 "metadata": {
  "kernelspec": {
   "display_name": "Python 3",
   "language": "python",
   "name": "python3"
  },
  "language_info": {
   "codemirror_mode": {
    "name": "ipython",
    "version": 3
   },
   "file_extension": ".py",
   "mimetype": "text/x-python",
   "name": "python",
   "nbconvert_exporter": "python",
   "pygments_lexer": "ipython3",
   "version": "3.7.6"
  }
 },
 "nbformat": 4,
 "nbformat_minor": 4
}
